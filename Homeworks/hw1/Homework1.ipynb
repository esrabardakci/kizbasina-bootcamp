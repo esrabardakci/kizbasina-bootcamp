{
 "cells": [
  {
   "cell_type": "markdown",
   "id": "5d439f32",
   "metadata": {},
   "source": [
    "Esra Bardakcı"
   ]
  },
  {
   "cell_type": "code",
   "execution_count": 1,
   "id": "bb9f140c",
   "metadata": {},
   "outputs": [],
   "source": [
    "#girilen sayının pozitif, negatif veya sıfır olduğunu yazan koşul\n",
    "#girilen sayının tek mi çift mi olduğunu yazan koşul\n",
    "#girilen nota göre harf aralığını yazan koşul (80-100 A, 60-80 B, vs)\n",
    "#girilen ismin karakter sayısı 5den büyükse \"uzun bir isminiz var\", değilse ismini yazsın\n",
    "#girilen sayının asal olup olmadığını bulan kod dizisi (for ve while)\n",
    "#notlar=[45,85,75,50] içerisinde 75 değerinin indisini yazdıran döngü\n",
    "#girilen sayının faktöriyelini alalım (for ve while)\n",
    "#kullanıcıdan pozitif sayı bekleyen, pozitifi de gördüğü an bastıran,negatif sayı girildikçe bir daha soran bir yapı kuralım (for döngüsü ile)\n",
    "#fonksiyon ile girilen sayının asal olup olmadığını bulan kod dizisi (for ve while)\n",
    "#fonksiyon iile girilen sayının faktöriyelini alalım"
   ]
  },
  {
   "cell_type": "code",
   "execution_count": 2,
   "id": "64289349",
   "metadata": {},
   "outputs": [
    {
     "name": "stdout",
     "output_type": "stream",
     "text": [
      "Bir sayı giriniz: -8\n",
      "Girdiğiniz sayı negatif.\n"
     ]
    }
   ],
   "source": [
    "#soru 1. girilen sayının pozitif, negatif veya sıfır olduğunu yazan koşul\n",
    "sayi=int(input('Bir sayı giriniz: '))\n",
    "if sayi <0:\n",
    "    print('Girdiğiniz sayı negatif.')\n",
    "elif sayi == 0:\n",
    "    print('Girdiğiniz sayı sıfır.')\n",
    "else:\n",
    "    print('Girdiğiniz sayı pozitif.')"
   ]
  },
  {
   "cell_type": "markdown",
   "id": "20b77c51",
   "metadata": {},
   "source": [
    "----------------------"
   ]
  },
  {
   "cell_type": "code",
   "execution_count": 3,
   "id": "b3740be6",
   "metadata": {},
   "outputs": [
    {
     "name": "stdout",
     "output_type": "stream",
     "text": [
      "Bir sayı giriniz: 56\n",
      "Girdiğiniz sayı çift sayıdır.\n"
     ]
    }
   ],
   "source": [
    "#soru 2. girilen sayının tek mi çift mi olduğunu yazan koşul\n",
    "sayi=int(input('Bir sayı giriniz: '))\n",
    "if sayi%2==0:\n",
    "    print('Girdiğiniz sayı çift sayıdır.')\n",
    "else:\n",
    "    print('Girdiğiniz sayı tek sayıdır.')"
   ]
  },
  {
   "cell_type": "markdown",
   "id": "09bf9c70",
   "metadata": {},
   "source": [
    "------------------"
   ]
  },
  {
   "cell_type": "code",
   "execution_count": 4,
   "id": "0d54d619",
   "metadata": {},
   "outputs": [
    {
     "name": "stdout",
     "output_type": "stream",
     "text": [
      "Bir sayı girinixz: -79\n",
      "Geçerli bir sayı giriniz.\n",
      "Bir sayı girinixz: 59\n",
      "Notunuz C\n"
     ]
    }
   ],
   "source": [
    "#soru 3. girilen nota göre harf aralığını yazan koşul (80-100 A, 60-80 B, vs)\n",
    "while True:\n",
    "    sayi=float(input('Bir sayı girinixz: '))\n",
    "    if sayi >100 or sayi <0 :\n",
    "        print('Geçerli bir sayı giriniz.')\n",
    "        #sayi=float(input('Bir sayı giriniz: '))\n",
    "    else:\n",
    "        break\n",
    "if sayi >=85 and sayi <=100:\n",
    "    print('Notunuz A')\n",
    "elif sayi >=70 and sayi <=84:\n",
    "    print('Notunuz B')\n",
    "elif sayi >=55 and sayi <=69:\n",
    "    print('Notunuz C')\n",
    "elif sayi >= 0 and sayi <=54:\n",
    "    print('Notunuz D')\n"
   ]
  },
  {
   "cell_type": "markdown",
   "id": "45f6bcd8",
   "metadata": {},
   "source": [
    "--------"
   ]
  },
  {
   "cell_type": "code",
   "execution_count": 5,
   "id": "108760f0",
   "metadata": {},
   "outputs": [
    {
     "name": "stdout",
     "output_type": "stream",
     "text": [
      "Lütfen isminizi giriniz: ayşegül\n",
      "Uzun bir isminiz var.\n"
     ]
    }
   ],
   "source": [
    "#soru4 girilen ismin karakter sayısı 5den büyükse \"uzun bir isminiz var\", değilse ismini yazsın\n",
    "isim=input('Lütfen isminizi giriniz: ')\n",
    "if len(isim)>5:\n",
    "    print('Uzun bir isminiz var.')\n",
    "else:\n",
    "    print('İsminiz: ',isim)"
   ]
  },
  {
   "cell_type": "markdown",
   "id": "1f323039",
   "metadata": {},
   "source": [
    "-------"
   ]
  },
  {
   "cell_type": "code",
   "execution_count": 6,
   "id": "0ada96ca",
   "metadata": {},
   "outputs": [
    {
     "name": "stdout",
     "output_type": "stream",
     "text": [
      "Lütfen bir sayı giriniz: 13\n",
      "Girdiğiniz sayı asal sayıdır.\n"
     ]
    }
   ],
   "source": [
    "#soru5 girilen sayının asal olup olmadığını bulan kod dizisi (for ve while)\n",
    "#for\n",
    "import math\n",
    "sayi=int(input('Lütfen bir sayı giriniz: '))\n",
    "if sayi<2:\n",
    "    print('Girdiğiniz sayı asal sayı değildir.')\n",
    "else:\n",
    "    for i in range(2,round(math.sqrt(sayi)+1)):\n",
    "        if sayi%i==0:\n",
    "            print('Girdiğiniz sayı asal sayı değildir.')\n",
    "            break\n",
    "    else:\n",
    "        print('Girdiğiniz sayı asal sayıdır.')\n",
    "    \n",
    "        "
   ]
  },
  {
   "cell_type": "code",
   "execution_count": 7,
   "id": "4f45dbfb",
   "metadata": {},
   "outputs": [
    {
     "name": "stdout",
     "output_type": "stream",
     "text": [
      "Lütfen bir sayı giriniz: 13\n",
      "Girdiğiniz sayı asal sayıdır.\n"
     ]
    }
   ],
   "source": [
    "#soru5 girilen sayının asal olup olmadığını bulan kod dizisi (for ve while)\n",
    "#while\n",
    "import math\n",
    "sayi=int(input('Lütfen bir sayı giriniz: '))\n",
    "if sayi<2:\n",
    "    print('Girdiğiniz sayı asal sayı değildir.')\n",
    "    \n",
    "else:\n",
    "    i=2\n",
    "    while i<math.sqrt(sayi):\n",
    "        if sayi%i==0:\n",
    "            print('Girdiğiniz sayı asal sayı değildir.')\n",
    "            break\n",
    "        else:\n",
    "            i+=1\n",
    "    else:\n",
    "        print('Girdiğiniz sayı asal sayıdır.')\n",
    "        \n",
    "            \n",
    "        \n",
    "    "
   ]
  },
  {
   "cell_type": "markdown",
   "id": "6b40de27",
   "metadata": {},
   "source": [
    "-------------------"
   ]
  },
  {
   "cell_type": "code",
   "execution_count": 8,
   "id": "9e904ab8",
   "metadata": {},
   "outputs": [
    {
     "name": "stdout",
     "output_type": "stream",
     "text": [
      "75'in indeks değeri: 2\n"
     ]
    }
   ],
   "source": [
    "#soru 6 notlar=[45,85,75,50] içerisinde 75 değerinin indisini yazdıran döngü\n",
    "notlar=[45,85,75,50]\n",
    "for i,v in enumerate(notlar):\n",
    "    if v==75:\n",
    "        print('75\\'in indeks değeri:',i)\n",
    "        break\n",
    "  \n",
    "  "
   ]
  },
  {
   "cell_type": "markdown",
   "id": "cbdf0b49",
   "metadata": {},
   "source": [
    "----------------"
   ]
  },
  {
   "cell_type": "code",
   "execution_count": 9,
   "id": "36fd7964",
   "metadata": {},
   "outputs": [
    {
     "name": "stdout",
     "output_type": "stream",
     "text": [
      "Bir sayı giriniz: 5\n",
      "Girdiğiniz sayının faktöriyeli: 120\n"
     ]
    }
   ],
   "source": [
    "#soru7 girilen sayının faktöriyelini alalım (for ve while)\n",
    "#for\n",
    "sayi=int(input('Bir sayı giriniz: '))\n",
    "if sayi==0:\n",
    "    print('Girdiğiniz sayının faktöriyeli:',1)\n",
    "else:\n",
    "    fac=1\n",
    "    for i in range(1,sayi+1):\n",
    "        fac*=i\n",
    "    print('Girdiğiniz sayının faktöriyeli:',fac)\n",
    "    "
   ]
  },
  {
   "cell_type": "code",
   "execution_count": 10,
   "id": "82018786",
   "metadata": {},
   "outputs": [
    {
     "name": "stdout",
     "output_type": "stream",
     "text": [
      "Bir sayı giriniz: 5\n",
      "Girdiğiniz sayının faktöriyeli: 120\n"
     ]
    }
   ],
   "source": [
    "#soru7 girilen sayının faktöriyelini alalım (for ve while)\n",
    "#while\n",
    "sayi=int(input('Bir sayı giriniz: '))\n",
    "if sayi==0:\n",
    "    print('Girdiğiniz sayının faktöriyeli:',1)\n",
    "else:\n",
    "    fac=1\n",
    "    i=1\n",
    "    while i<sayi+1:\n",
    "        fac*=i\n",
    "        i+=1\n",
    "    print('Girdiğiniz sayının faktöriyeli:',fac)"
   ]
  },
  {
   "cell_type": "markdown",
   "id": "581ad8af",
   "metadata": {},
   "source": [
    "---------------------"
   ]
  },
  {
   "cell_type": "code",
   "execution_count": 11,
   "id": "333fa567",
   "metadata": {},
   "outputs": [
    {
     "name": "stdout",
     "output_type": "stream",
     "text": [
      "Pozitif bir sayı giriniz: -77\n",
      "Pozitif bir sayı giriniz: -5\n",
      "Pozitif bir sayı giriniz: 17\n",
      "Girdiğiniz sayı:  17\n"
     ]
    }
   ],
   "source": [
    "#soru 8 kullanıcıdan pozitif sayı bekleyen, pozitifi gördüğünde bastıran,negatif sayı girildikçe bir daha soran bir yapı kuralım (for döngüsü ile)\n",
    "for i in range(100):\n",
    "    sayi=int(input('Pozitif bir sayı giriniz: '))\n",
    "    if sayi>0:\n",
    "        print('Girdiğiniz sayı: ',sayi)\n",
    "        break\n",
    "else:\n",
    "    'Deneme sınırını aştınız.'\n",
    "    \n",
    "  \n",
    "    "
   ]
  },
  {
   "cell_type": "markdown",
   "id": "ab584a4c",
   "metadata": {},
   "source": [
    "---------------"
   ]
  },
  {
   "cell_type": "code",
   "execution_count": 12,
   "id": "94bb4b65",
   "metadata": {},
   "outputs": [
    {
     "name": "stdout",
     "output_type": "stream",
     "text": [
      "Lütfen bir sayı giriniz: 13\n",
      "Girdiğiniz sayı asal sayıdır.\n"
     ]
    }
   ],
   "source": [
    "#soru 8 fonksiyon ile girilen sayının asal olup olmadığını bulan kod dizisi (for ve while)\n",
    "#for\n",
    "def asal():\n",
    "    import math\n",
    "    sayi=int(input('Lütfen bir sayı giriniz: '))\n",
    "    if sayi<2:\n",
    "        print('Girdiğiniz sayı asal sayı değildir.')\n",
    "    else:\n",
    "        for i in range(2,round(math.sqrt(sayi)+1)):\n",
    "            if sayi%i==0:\n",
    "                print('Girdiğiniz sayı asal sayı değildir.')\n",
    "                break\n",
    "        else:\n",
    "            print('Girdiğiniz sayı asal sayıdır.')\n",
    "\n",
    "asal()\n",
    "    \n"
   ]
  },
  {
   "cell_type": "code",
   "execution_count": 13,
   "id": "63ef3293",
   "metadata": {},
   "outputs": [
    {
     "name": "stdout",
     "output_type": "stream",
     "text": [
      "Lütfen bir sayı giriniz: 13\n",
      "Girdiğiniz sayı asal sayıdır.\n"
     ]
    }
   ],
   "source": [
    "#soru 8 fonksiyon ile girilen sayının asal olup olmadığını bulan kod dizisi (for ve while)\n",
    "#while\n",
    "def asal():\n",
    "    import math\n",
    "    sayi=int(input('Lütfen bir sayı giriniz: '))\n",
    "    if sayi<2:\n",
    "        print('Girdiğiniz sayı asal sayı değildir.')\n",
    "    else:\n",
    "        i=2\n",
    "        while i<math.sqrt(sayi):\n",
    "            if sayi%i==0:\n",
    "                print('Girdiğiniz sayı asal sayı değildir.')\n",
    "                break\n",
    "            else:\n",
    "                i+=1\n",
    "        else:\n",
    "            print('Girdiğiniz sayı asal sayıdır.')\n",
    "asal()"
   ]
  },
  {
   "cell_type": "markdown",
   "id": "d06b5f72",
   "metadata": {},
   "source": [
    "-------"
   ]
  },
  {
   "cell_type": "code",
   "execution_count": 14,
   "id": "e320906b",
   "metadata": {},
   "outputs": [
    {
     "name": "stdout",
     "output_type": "stream",
     "text": [
      "Bir sayı giriniz: 5\n",
      "Girdiğiniz sayının faktöriyeli: 120\n"
     ]
    }
   ],
   "source": [
    "#soru 9 fonksiyon ile girilen sayının faktöriyelini alalım\n",
    "def factorial():\n",
    "    sayi=int(input('Bir sayı giriniz: '))\n",
    "    fac=1\n",
    "    for i in range(1,sayi+1):\n",
    "        fac*=i\n",
    "    print('Girdiğiniz sayının faktöriyeli:',fac)\n",
    "factorial()"
   ]
  },
  {
   "cell_type": "markdown",
   "id": "2312d68d",
   "metadata": {},
   "source": [
    "-------"
   ]
  }
 ],
 "metadata": {
  "kernelspec": {
   "display_name": "Python 3 (ipykernel)",
   "language": "python",
   "name": "python3"
  },
  "language_info": {
   "codemirror_mode": {
    "name": "ipython",
    "version": 3
   },
   "file_extension": ".py",
   "mimetype": "text/x-python",
   "name": "python",
   "nbconvert_exporter": "python",
   "pygments_lexer": "ipython3",
   "version": "3.9.13"
  }
 },
 "nbformat": 4,
 "nbformat_minor": 5
}
